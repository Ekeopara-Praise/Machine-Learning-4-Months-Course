{
 "cells": [
  {
   "cell_type": "markdown",
   "id": "502da6a2",
   "metadata": {},
   "source": [
    "# Homework 1"
   ]
  },
  {
   "cell_type": "markdown",
   "id": "cccc889f",
   "metadata": {},
   "source": [
    "## Questions"
   ]
  },
  {
   "cell_type": "markdown",
   "id": "eb7c8dbf",
   "metadata": {},
   "source": [
    "### Q1. Pandas version \n",
    "\n",
    "What's the version of Pandas that you installed?"
   ]
  },
  {
   "cell_type": "code",
   "execution_count": 1,
   "id": "74aa2294",
   "metadata": {},
   "outputs": [],
   "source": [
    "import pandas as pd"
   ]
  },
  {
   "cell_type": "code",
   "execution_count": 2,
   "id": "0c24cfdb",
   "metadata": {},
   "outputs": [
    {
     "data": {
      "text/plain": [
       "'2.3.2'"
      ]
     },
     "execution_count": 2,
     "metadata": {},
     "output_type": "execute_result"
    }
   ],
   "source": [
    "pd.__version__"
   ]
  },
  {
   "cell_type": "markdown",
   "id": "34717ab5",
   "metadata": {},
   "source": [
    "## Getting the data"
   ]
  },
  {
   "cell_type": "code",
   "execution_count": 5,
   "id": "55de65db",
   "metadata": {},
   "outputs": [],
   "source": [
    "# df = pd.read_csv('https://raw.githubusercontent.com/alexeygrigorev/datasets/master/car_fuel_efficiency.csv')"
   ]
  },
  {
   "cell_type": "code",
   "execution_count": null,
   "id": "40b367f6",
   "metadata": {},
   "outputs": [],
   "source": [
    "df.head()"
   ]
  },
  {
   "cell_type": "markdown",
   "id": "e86bba8b",
   "metadata": {},
   "source": [
    "### Q2. Records count\n",
    "How many records are in the dataset?\n",
    "\n",
    "- 4704\n",
    "- 8704\n",
    "- 9704\n",
    "- 17704"
   ]
  },
  {
   "cell_type": "code",
   "execution_count": null,
   "id": "3234de0a",
   "metadata": {},
   "outputs": [],
   "source": []
  },
  {
   "cell_type": "markdown",
   "id": "4b659b5e",
   "metadata": {},
   "source": [
    "### Question 2. Records count (1 point)\n",
    "\n",
    "- 4704\n",
    "\n",
    "- 8704\n",
    "\n",
    "- 9704\n",
    "\n",
    "- 17704"
   ]
  },
  {
   "cell_type": "code",
   "execution_count": null,
   "id": "de0bbbf8",
   "metadata": {},
   "outputs": [
    {
     "data": {
      "text/plain": [
       "-17704"
      ]
     },
     "execution_count": 6,
     "metadata": {},
     "output_type": "execute_result"
    }
   ],
   "source": []
  },
  {
   "cell_type": "markdown",
   "id": "fe20f57d",
   "metadata": {},
   "source": [
    "### Question 3. Fuel types (1 point)\n",
    "\n",
    "- 1\n",
    "- 2\n",
    "- 3\n",
    "- 4"
   ]
  },
  {
   "cell_type": "markdown",
   "id": "92a89807",
   "metadata": {},
   "source": []
  },
  {
   "cell_type": "code",
   "execution_count": null,
   "id": "a34d0467",
   "metadata": {},
   "outputs": [],
   "source": []
  },
  {
   "cell_type": "markdown",
   "id": "270b450e",
   "metadata": {},
   "source": [
    "### Question 4. Missing values (1 point)\n",
    "\n",
    "- 0\n",
    "- 1\n",
    "- 2\n",
    "- 3\n",
    "- 4"
   ]
  },
  {
   "cell_type": "markdown",
   "id": "39d6f838",
   "metadata": {},
   "source": []
  },
  {
   "cell_type": "code",
   "execution_count": null,
   "id": "0235be4e",
   "metadata": {},
   "outputs": [],
   "source": []
  },
  {
   "cell_type": "markdown",
   "id": "a1118685",
   "metadata": {},
   "source": [
    "### Question 5. Max fuel efficiency (1 point)\n",
    "\n",
    "\n",
    "13.75\n",
    "\n",
    "23.75\n",
    "\n",
    "33.75\n",
    "\n",
    "43.75"
   ]
  },
  {
   "cell_type": "markdown",
   "id": "70dd2128",
   "metadata": {},
   "source": []
  },
  {
   "cell_type": "markdown",
   "id": "3910e340",
   "metadata": {},
   "source": [
    "### Question 6. Median value of horsepower (1 point)\n",
    "\n",
    "\n",
    "Yes, it increased\n",
    "\n",
    "Yes, it decreased\n",
    "\n",
    "No"
   ]
  },
  {
   "cell_type": "markdown",
   "id": "731f6388",
   "metadata": {},
   "source": []
  },
  {
   "cell_type": "markdown",
   "id": "ed9bf21f",
   "metadata": {},
   "source": [
    "### Question 7. Sum of weights (1 point)\n",
    "\n",
    "\n",
    "0.051\n",
    "\n",
    "0.51\n",
    "\n",
    "5.1\n",
    "\n",
    "51"
   ]
  },
  {
   "cell_type": "markdown",
   "id": "3dd87fee",
   "metadata": {},
   "source": []
  }
 ],
 "metadata": {
  "kernelspec": {
   "display_name": "ml-zoomcamp",
   "language": "python",
   "name": "python3"
  },
  "language_info": {
   "codemirror_mode": {
    "name": "ipython",
    "version": 3
   },
   "file_extension": ".py",
   "mimetype": "text/x-python",
   "name": "python",
   "nbconvert_exporter": "python",
   "pygments_lexer": "ipython3",
   "version": "3.11.13"
  }
 },
 "nbformat": 4,
 "nbformat_minor": 5
}
